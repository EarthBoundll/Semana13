{
  "nbformat": 4,
  "nbformat_minor": 0,
  "metadata": {
    "colab": {
      "provenance": [],
      "authorship_tag": "ABX9TyMRBRDPpGlosnfP86f/9ojd",
      "include_colab_link": true
    },
    "kernelspec": {
      "name": "python3",
      "display_name": "Python 3"
    },
    "language_info": {
      "name": "python"
    }
  },
  "cells": [
    {
      "cell_type": "markdown",
      "metadata": {
        "id": "view-in-github",
        "colab_type": "text"
      },
      "source": [
        "<a href=\"https://colab.research.google.com/github/EarthBoundll/Semana13/blob/main/Correlacion.ipynb\" target=\"_parent\"><img src=\"https://colab.research.google.com/assets/colab-badge.svg\" alt=\"Open In Colab\"/></a>"
      ]
    },
    {
      "cell_type": "code",
      "execution_count": 1,
      "metadata": {
        "id": "L8lzJ87BmgwP"
      },
      "outputs": [],
      "source": [
        "from pyspark.sql import SparkSession\n",
        "from pyspark.sql.functions import col, expr, mean, corr"
      ]
    },
    {
      "cell_type": "code",
      "source": [
        "spark = SparkSession.builder.appName(\"Media\").getOrCreate()"
      ],
      "metadata": {
        "id": "s6Q8rZIznKGC"
      },
      "execution_count": 2,
      "outputs": []
    },
    {
      "cell_type": "code",
      "source": [
        "df=spark.read.csv(\"promedioa.csv\", header=True, inferSchema=True)"
      ],
      "metadata": {
        "id": "qxkBJ4JPo9Mb"
      },
      "execution_count": 12,
      "outputs": []
    },
    {
      "cell_type": "code",
      "source": [
        "df.show()"
      ],
      "metadata": {
        "colab": {
          "base_uri": "https://localhost:8080/"
        },
        "id": "iRhdyXsfpWHa",
        "outputId": "19656b94-32f9-4024-9ecf-dd1fc610929a"
      },
      "execution_count": 13,
      "outputs": [
        {
          "output_type": "stream",
          "name": "stdout",
          "text": [
            "+-------+---+---+---+---+\n",
            "|Alumnos| E1| E2| E3| E4|\n",
            "+-------+---+---+---+---+\n",
            "|   Luis|  5| 11| 12| 17|\n",
            "|  Pablo| 15| 16| 14| 11|\n",
            "|   Juan| 18| 14| 18|  2|\n",
            "| Junior| 15| 10|  5| 19|\n",
            "|  Julio| 11| 12| 14| 11|\n",
            "|   Alex| 16| 11| 13| 11|\n",
            "|  Dante| 14| 20|  5| 11|\n",
            "+-------+---+---+---+---+\n",
            "\n"
          ]
        }
      ]
    },
    {
      "cell_type": "code",
      "source": [
        "correlacion = df.select(corr(\"E3\",\"E4\").alias(\"correlacion\")).collect()[0][\"correlacion\"]"
      ],
      "metadata": {
        "id": "JxXavgJezzIJ"
      },
      "execution_count": 61,
      "outputs": []
    },
    {
      "cell_type": "code",
      "source": [
        "print(\"La correlacion de los examenes 1 y 2 es:\", correlacion)"
      ],
      "metadata": {
        "colab": {
          "base_uri": "https://localhost:8080/"
        },
        "id": "dDd9Ll_H1GuK",
        "outputId": "394ad123-329a-41d5-dc55-9d742ce69a32"
      },
      "execution_count": 60,
      "outputs": [
        {
          "output_type": "stream",
          "name": "stdout",
          "text": [
            "La correlacion de los examenes 1 y 2 es: 0.24921752546721107\n"
          ]
        }
      ]
    },
    {
      "cell_type": "code",
      "source": [
        "print(\"La correlacion de los examenes 3 y 4 es:\", correlacion)"
      ],
      "metadata": {
        "colab": {
          "base_uri": "https://localhost:8080/"
        },
        "id": "zM2ztJiaz9bQ",
        "outputId": "1b65403e-1583-47ac-ccd3-4fe860385b84"
      },
      "execution_count": 62,
      "outputs": [
        {
          "output_type": "stream",
          "name": "stdout",
          "text": [
            "La correlacion de los examenes 3 y 4 es: -0.6801901172888124\n"
          ]
        }
      ]
    }
  ]
}