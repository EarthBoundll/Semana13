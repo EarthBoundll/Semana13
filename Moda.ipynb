{
  "nbformat": 4,
  "nbformat_minor": 0,
  "metadata": {
    "colab": {
      "provenance": [],
      "authorship_tag": "ABX9TyOgkRe+/bmXMYAuRjdvZGuJ",
      "include_colab_link": true
    },
    "kernelspec": {
      "name": "python3",
      "display_name": "Python 3"
    },
    "language_info": {
      "name": "python"
    }
  },
  "cells": [
    {
      "cell_type": "markdown",
      "metadata": {
        "id": "view-in-github",
        "colab_type": "text"
      },
      "source": [
        "<a href=\"https://colab.research.google.com/github/EarthBoundll/Semana13/blob/main/Moda.ipynb\" target=\"_parent\"><img src=\"https://colab.research.google.com/assets/colab-badge.svg\" alt=\"Open In Colab\"/></a>"
      ]
    },
    {
      "cell_type": "code",
      "execution_count": 1,
      "metadata": {
        "id": "L8lzJ87BmgwP"
      },
      "outputs": [],
      "source": [
        "from pyspark.sql import SparkSession\n",
        "from pyspark.sql.functions import col, expr, mean, corr"
      ]
    },
    {
      "cell_type": "code",
      "source": [
        "spark = SparkSession.builder.appName(\"Media\").getOrCreate()"
      ],
      "metadata": {
        "id": "s6Q8rZIznKGC"
      },
      "execution_count": 2,
      "outputs": []
    },
    {
      "cell_type": "code",
      "source": [
        "df=spark.read.csv(\"promedioa.csv\", header=True, inferSchema=True)"
      ],
      "metadata": {
        "id": "qxkBJ4JPo9Mb"
      },
      "execution_count": 12,
      "outputs": []
    },
    {
      "cell_type": "code",
      "source": [
        "df.show()"
      ],
      "metadata": {
        "colab": {
          "base_uri": "https://localhost:8080/"
        },
        "id": "iRhdyXsfpWHa",
        "outputId": "19656b94-32f9-4024-9ecf-dd1fc610929a"
      },
      "execution_count": 13,
      "outputs": [
        {
          "output_type": "stream",
          "name": "stdout",
          "text": [
            "+-------+---+---+---+---+\n",
            "|Alumnos| E1| E2| E3| E4|\n",
            "+-------+---+---+---+---+\n",
            "|   Luis|  5| 11| 12| 17|\n",
            "|  Pablo| 15| 16| 14| 11|\n",
            "|   Juan| 18| 14| 18|  2|\n",
            "| Junior| 15| 10|  5| 19|\n",
            "|  Julio| 11| 12| 14| 11|\n",
            "|   Alex| 16| 11| 13| 11|\n",
            "|  Dante| 14| 20|  5| 11|\n",
            "+-------+---+---+---+---+\n",
            "\n"
          ]
        }
      ]
    },
    {
      "cell_type": "code",
      "source": [
        "var_moda = df.groupBy(\"E4\").count().orderBy(col(\"count\").desc()).first()"
      ],
      "metadata": {
        "id": "LpLh_SC8ylKR"
      },
      "execution_count": 56,
      "outputs": []
    },
    {
      "cell_type": "code",
      "source": [
        "print(\"La moda es:\",var_moda[\"E1\"])"
      ],
      "metadata": {
        "colab": {
          "base_uri": "https://localhost:8080/"
        },
        "id": "rZK9uGniy8Vx",
        "outputId": "fd36a208-cfe8-4fee-9974-d0764d955401"
      },
      "execution_count": 49,
      "outputs": [
        {
          "output_type": "stream",
          "name": "stdout",
          "text": [
            "La moda es: 15\n"
          ]
        }
      ]
    },
    {
      "cell_type": "code",
      "source": [
        "print(\"La moda es:\",var_moda[\"E2\"])"
      ],
      "metadata": {
        "colab": {
          "base_uri": "https://localhost:8080/"
        },
        "id": "TjRNY-QdzUrp",
        "outputId": "23e8a7bc-a4b7-40ac-d3fb-9b502f6fb199"
      },
      "execution_count": 51,
      "outputs": [
        {
          "output_type": "stream",
          "name": "stdout",
          "text": [
            "La moda es: 11\n"
          ]
        }
      ]
    },
    {
      "cell_type": "code",
      "source": [
        "print(\"La moda es:\",var_moda[\"E3\"])"
      ],
      "metadata": {
        "colab": {
          "base_uri": "https://localhost:8080/"
        },
        "id": "ZozL7ybbzXtC",
        "outputId": "cdea85a1-1964-4246-ad6c-1d89746bdc5e"
      },
      "execution_count": 54,
      "outputs": [
        {
          "output_type": "stream",
          "name": "stdout",
          "text": [
            "La moda es: 5\n"
          ]
        }
      ]
    },
    {
      "cell_type": "code",
      "source": [
        "print(\"La moda es:\",var_moda[\"E4\"])"
      ],
      "metadata": {
        "colab": {
          "base_uri": "https://localhost:8080/"
        },
        "id": "bQi8TQ_Yzd4Z",
        "outputId": "c6c847e5-a23c-4a5b-fc32-d572d8f1d42e"
      },
      "execution_count": 57,
      "outputs": [
        {
          "output_type": "stream",
          "name": "stdout",
          "text": [
            "La moda es: 11\n"
          ]
        }
      ]
    }
  ]
}