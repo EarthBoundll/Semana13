{
  "nbformat": 4,
  "nbformat_minor": 0,
  "metadata": {
    "colab": {
      "provenance": [],
      "authorship_tag": "ABX9TyP36BtIMGwAeIPRoFqieFLH",
      "include_colab_link": true
    },
    "kernelspec": {
      "name": "python3",
      "display_name": "Python 3"
    },
    "language_info": {
      "name": "python"
    }
  },
  "cells": [
    {
      "cell_type": "markdown",
      "metadata": {
        "id": "view-in-github",
        "colab_type": "text"
      },
      "source": [
        "<a href=\"https://colab.research.google.com/github/EarthBoundll/Semana13/blob/main/Media.ipynb\" target=\"_parent\"><img src=\"https://colab.research.google.com/assets/colab-badge.svg\" alt=\"Open In Colab\"/></a>"
      ]
    },
    {
      "cell_type": "code",
      "execution_count": 1,
      "metadata": {
        "id": "L8lzJ87BmgwP"
      },
      "outputs": [],
      "source": [
        "from pyspark.sql import SparkSession\n",
        "from pyspark.sql.functions import col, expr, mean, corr"
      ]
    },
    {
      "cell_type": "code",
      "source": [
        "spark = SparkSession.builder.appName(\"Media\").getOrCreate()"
      ],
      "metadata": {
        "id": "s6Q8rZIznKGC"
      },
      "execution_count": 2,
      "outputs": []
    },
    {
      "cell_type": "code",
      "source": [
        "df=spark.read.csv(\"promedioa.csv\", header=True, inferSchema=True)"
      ],
      "metadata": {
        "id": "qxkBJ4JPo9Mb"
      },
      "execution_count": 12,
      "outputs": []
    },
    {
      "cell_type": "code",
      "source": [
        "df.show()"
      ],
      "metadata": {
        "colab": {
          "base_uri": "https://localhost:8080/"
        },
        "id": "iRhdyXsfpWHa",
        "outputId": "19656b94-32f9-4024-9ecf-dd1fc610929a"
      },
      "execution_count": 13,
      "outputs": [
        {
          "output_type": "stream",
          "name": "stdout",
          "text": [
            "+-------+---+---+---+---+\n",
            "|Alumnos| E1| E2| E3| E4|\n",
            "+-------+---+---+---+---+\n",
            "|   Luis|  5| 11| 12| 17|\n",
            "|  Pablo| 15| 16| 14| 11|\n",
            "|   Juan| 18| 14| 18|  2|\n",
            "| Junior| 15| 10|  5| 19|\n",
            "|  Julio| 11| 12| 14| 11|\n",
            "|   Alex| 16| 11| 13| 11|\n",
            "|  Dante| 14| 20|  5| 11|\n",
            "+-------+---+---+---+---+\n",
            "\n"
          ]
        }
      ]
    },
    {
      "cell_type": "code",
      "source": [
        "df.select(mean(col(\"E1\")).alias(\"Media\")).show()"
      ],
      "metadata": {
        "colab": {
          "base_uri": "https://localhost:8080/"
        },
        "id": "C7aZC7-Krmji",
        "outputId": "da4a76df-a226-4bb3-eacc-e7b2c72ca1b2"
      },
      "execution_count": 26,
      "outputs": [
        {
          "output_type": "stream",
          "name": "stdout",
          "text": [
            "+------------------+\n",
            "|             Media|\n",
            "+------------------+\n",
            "|13.428571428571429|\n",
            "+------------------+\n",
            "\n"
          ]
        }
      ]
    },
    {
      "cell_type": "code",
      "source": [
        "df.select(mean(col(\"E2\")).alias(\"Media\")).show()"
      ],
      "metadata": {
        "colab": {
          "base_uri": "https://localhost:8080/"
        },
        "id": "tgRfLEeCt5Di",
        "outputId": "1f5309de-d8fb-45fd-cb51-36e1e961d769"
      },
      "execution_count": 30,
      "outputs": [
        {
          "output_type": "stream",
          "name": "stdout",
          "text": [
            "+------------------+\n",
            "|             Media|\n",
            "+------------------+\n",
            "|13.428571428571429|\n",
            "+------------------+\n",
            "\n"
          ]
        }
      ]
    },
    {
      "cell_type": "code",
      "source": [
        "df.select(mean(col(\"E3\")).alias(\"Media\")).show()"
      ],
      "metadata": {
        "colab": {
          "base_uri": "https://localhost:8080/"
        },
        "id": "QlUEv6lxuNoB",
        "outputId": "2331f3ef-7716-4c06-d2ee-e551803e070a"
      },
      "execution_count": 28,
      "outputs": [
        {
          "output_type": "stream",
          "name": "stdout",
          "text": [
            "+------------------+\n",
            "|             Media|\n",
            "+------------------+\n",
            "|11.571428571428571|\n",
            "+------------------+\n",
            "\n"
          ]
        }
      ]
    },
    {
      "cell_type": "code",
      "source": [
        "df.select(mean(col(\"E4\")).alias(\"Media\")).show()"
      ],
      "metadata": {
        "colab": {
          "base_uri": "https://localhost:8080/"
        },
        "id": "VmHiOmi5uRCp",
        "outputId": "b6d202b6-0f07-4a8b-c334-924031cc3870"
      },
      "execution_count": 29,
      "outputs": [
        {
          "output_type": "stream",
          "name": "stdout",
          "text": [
            "+------------------+\n",
            "|             Media|\n",
            "+------------------+\n",
            "|11.714285714285714|\n",
            "+------------------+\n",
            "\n"
          ]
        }
      ]
    }
  ]
}