{
  "nbformat": 4,
  "nbformat_minor": 0,
  "metadata": {
    "colab": {
      "provenance": [],
      "authorship_tag": "ABX9TyMkPfF49iUJWLBLsyiF2JxO",
      "include_colab_link": true
    },
    "kernelspec": {
      "name": "python3",
      "display_name": "Python 3"
    },
    "language_info": {
      "name": "python"
    }
  },
  "cells": [
    {
      "cell_type": "markdown",
      "metadata": {
        "id": "view-in-github",
        "colab_type": "text"
      },
      "source": [
        "<a href=\"https://colab.research.google.com/github/EarthBoundll/Semana13/blob/main/Mediana.ipynb\" target=\"_parent\"><img src=\"https://colab.research.google.com/assets/colab-badge.svg\" alt=\"Open In Colab\"/></a>"
      ]
    },
    {
      "cell_type": "code",
      "execution_count": 1,
      "metadata": {
        "id": "L8lzJ87BmgwP"
      },
      "outputs": [],
      "source": [
        "from pyspark.sql import SparkSession\n",
        "from pyspark.sql.functions import col, expr, mean, corr"
      ]
    },
    {
      "cell_type": "code",
      "source": [
        "spark = SparkSession.builder.appName(\"Media\").getOrCreate()"
      ],
      "metadata": {
        "id": "s6Q8rZIznKGC"
      },
      "execution_count": 2,
      "outputs": []
    },
    {
      "cell_type": "code",
      "source": [
        "df=spark.read.csv(\"promedioa.csv\", header=True, inferSchema=True)"
      ],
      "metadata": {
        "id": "qxkBJ4JPo9Mb"
      },
      "execution_count": 12,
      "outputs": []
    },
    {
      "cell_type": "code",
      "source": [
        "df.show()"
      ],
      "metadata": {
        "colab": {
          "base_uri": "https://localhost:8080/"
        },
        "id": "iRhdyXsfpWHa",
        "outputId": "19656b94-32f9-4024-9ecf-dd1fc610929a"
      },
      "execution_count": 13,
      "outputs": [
        {
          "output_type": "stream",
          "name": "stdout",
          "text": [
            "+-------+---+---+---+---+\n",
            "|Alumnos| E1| E2| E3| E4|\n",
            "+-------+---+---+---+---+\n",
            "|   Luis|  5| 11| 12| 17|\n",
            "|  Pablo| 15| 16| 14| 11|\n",
            "|   Juan| 18| 14| 18|  2|\n",
            "| Junior| 15| 10|  5| 19|\n",
            "|  Julio| 11| 12| 14| 11|\n",
            "|   Alex| 16| 11| 13| 11|\n",
            "|  Dante| 14| 20|  5| 11|\n",
            "+-------+---+---+---+---+\n",
            "\n"
          ]
        }
      ]
    },
    {
      "cell_type": "code",
      "source": [
        "var_mediana = df.approxQuantile(\"E4\",[0.5],0.0)"
      ],
      "metadata": {
        "id": "uZ3HeUx3uzrS"
      },
      "execution_count": 41,
      "outputs": []
    },
    {
      "cell_type": "code",
      "source": [
        "print(\"La mitad de notas de los alumnos en el Examen1 es de:\",var_mediana)"
      ],
      "metadata": {
        "colab": {
          "base_uri": "https://localhost:8080/"
        },
        "id": "otkkvkEGu6E6",
        "outputId": "7fff6a88-fa21-47fc-930d-c8a22f457d05"
      },
      "execution_count": 33,
      "outputs": [
        {
          "output_type": "stream",
          "name": "stdout",
          "text": [
            "La mitad de notas de los alumnos en el Examen1 es de: [15.0]\n"
          ]
        }
      ]
    },
    {
      "cell_type": "code",
      "source": [
        "print(\"La mitad de notas de los alumnos en el Examen2 es de:\",var_mediana)"
      ],
      "metadata": {
        "colab": {
          "base_uri": "https://localhost:8080/"
        },
        "id": "CYVw--HDxTN6",
        "outputId": "8c0f98b9-4c2b-4280-d5df-0034892f4dc9"
      },
      "execution_count": 38,
      "outputs": [
        {
          "output_type": "stream",
          "name": "stdout",
          "text": [
            "La mitad de notas de los alumnos en el Examen2 es de: [12.0]\n"
          ]
        }
      ]
    },
    {
      "cell_type": "code",
      "source": [
        "print(\"La mitad de notas de los alumnos en el Examen3 es de:\",var_mediana)"
      ],
      "metadata": {
        "colab": {
          "base_uri": "https://localhost:8080/"
        },
        "id": "rABMoRJnxWHh",
        "outputId": "ef3fe3d3-6362-43f7-e57d-f09487ef1be7"
      },
      "execution_count": 40,
      "outputs": [
        {
          "output_type": "stream",
          "name": "stdout",
          "text": [
            "La mitad de notas de los alumnos en el Examen3 es de: [13.0]\n"
          ]
        }
      ]
    },
    {
      "cell_type": "code",
      "source": [
        "print(\"La mitad de notas de los alumnos en el Examen4 es de:\",var_mediana)"
      ],
      "metadata": {
        "colab": {
          "base_uri": "https://localhost:8080/"
        },
        "id": "WRDv8IS2xWha",
        "outputId": "c6b5246f-c478-48fe-9a17-c8a5ac68f447"
      },
      "execution_count": 42,
      "outputs": [
        {
          "output_type": "stream",
          "name": "stdout",
          "text": [
            "La mitad de notas de los alumnos en el Examen4 es de: [11.0]\n"
          ]
        }
      ]
    }
  ]
}